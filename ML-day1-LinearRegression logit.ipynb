{
 "cells": [
  {
   "cell_type": "code",
   "execution_count": 1,
   "metadata": {},
   "outputs": [],
   "source": [
    "import numpy as np\n",
    "import theano as th\n",
    "import matplotlib.pyplot as plt"
   ]
  },
  {
   "cell_type": "code",
   "execution_count": 2,
   "metadata": {},
   "outputs": [],
   "source": [
    "xdata=np.asarray([1.2,2.0,3.6,5.8,9.11,8.51,12.55,18.52,45.12,65.12])\n",
    "ydata=np.asarray([1,0,0,1,0,1,0,1,1,0])"
   ]
  },
  {
   "cell_type": "code",
   "execution_count": 3,
   "metadata": {},
   "outputs": [
    {
     "data": {
      "text/plain": [
       "10"
      ]
     },
     "execution_count": 3,
     "metadata": {},
     "output_type": "execute_result"
    }
   ],
   "source": [
    "len(ydata)"
   ]
  },
  {
   "cell_type": "code",
   "execution_count": 4,
   "metadata": {},
   "outputs": [
    {
     "data": {
      "text/plain": [
       "10"
      ]
     },
     "execution_count": 4,
     "metadata": {},
     "output_type": "execute_result"
    }
   ],
   "source": [
    "len(xdata)"
   ]
  },
  {
   "cell_type": "code",
   "execution_count": 5,
   "metadata": {},
   "outputs": [],
   "source": [
    "#Algorithm\n",
    "#y=mX+C\n",
    "x=th.tensor.vector(name='x')\n",
    "y=th.tensor.vector(name='y')"
   ]
  },
  {
   "cell_type": "code",
   "execution_count": 6,
   "metadata": {},
   "outputs": [],
   "source": [
    "#Values of m and c\n",
    "m=th.shared(np.random.randn(),name='m')\n",
    "c=th.shared(np.random.randn(),name='c')\n",
    "#m=0.98765556\n",
    "#c=12.87557887"
   ]
  },
  {
   "cell_type": "code",
   "execution_count": 7,
   "metadata": {},
   "outputs": [],
   "source": [
    "# Equation of the Algorithm\n",
    "yh=np.dot(x,m)+c"
   ]
  },
  {
   "cell_type": "code",
   "execution_count": 8,
   "metadata": {},
   "outputs": [],
   "source": [
    "# cost function - 1/2n sum of sq- (y-yh)\n",
    "n=len(xdata)\n",
    "# OR n=xdata.size\n",
    "cost=th.tensor.sum((y-yh)**2)/(2*n)"
   ]
  },
  {
   "cell_type": "code",
   "execution_count": 9,
   "metadata": {},
   "outputs": [],
   "source": [
    "# Gradient Descent Algorithm (formula of B0new)\n",
    "djdm=th.tensor.grad(cost,m)\n",
    "djdc=th.tensor.grad(cost,c)\n",
    "mnew = m-0.0005*djdm\n",
    "cnew = c-0.0005*djdc"
   ]
  },
  {
   "cell_type": "code",
   "execution_count": 10,
   "metadata": {},
   "outputs": [],
   "source": [
    "#step 3 is to define the train and test functions\n",
    "\n",
    "train=th.function([x,y],cost,updates=[(m,mnew),(c,cnew)])\n",
    "test=th.function([x],yh)"
   ]
  },
  {
   "cell_type": "code",
   "execution_count": 11,
   "metadata": {},
   "outputs": [],
   "source": [
    "#iteration \n",
    "costval=[]\n",
    "for i in range(40000):\n",
    "    costm=train(xdata,ydata)\n",
    "    costval.append(costm)\n",
    "  #  print(costm)"
   ]
  },
  {
   "cell_type": "code",
   "execution_count": 12,
   "metadata": {},
   "outputs": [
    {
     "name": "stdout",
     "output_type": "stream",
     "text": [
      "[0.52805987 0.52203162 0.51600337 0.50997512 0.50394687 0.49791862\n",
      " 0.49189037 0.48586212 0.47983387 0.47380562 0.46777737 0.46174911\n",
      " 0.45572086 0.44969261 0.44366436 0.43763611 0.43160786 0.42557961\n",
      " 0.41955136 0.41352311]\n"
     ]
    }
   ],
   "source": [
    "a=np.linspace(0,70,20)\n",
    "b=test(a)\n",
    "print(b)"
   ]
  },
  {
   "cell_type": "code",
   "execution_count": 14,
   "metadata": {},
   "outputs": [
    {
     "name": "stdout",
     "output_type": "stream",
     "text": [
      "final value of m is-0.0016362394579919816\n",
      "final value of c is0.5280598715850848\n",
      "[0.42150796]\n"
     ]
    },
    {
     "data": {
      "image/png": "[encoded data removed]",
      "text/plain": [
       "<Figure size 432x288 with 1 Axes>"
      ]
     },
     "metadata": {
      "needs_background": "light"
     },
     "output_type": "display_data"
    }
   ],
   "source": [
    "print('final value of m is'+str(m.get_value()))\n",
    "print('final value of c is'+str(c.get_value()))\n",
    "print(test([65.12]))\n",
    "plt.scatter(xdata,ydata,color='b',label='Data')\n",
    "plt.plot(a,b,color='red',label='Regression')\n",
    "plt.title(\"Linear Regression\")\n",
    "plt.xlabel(\"xdata\")\n",
    "plt.ylabel(\"ydata\")\n",
    "plt.legend(loc=4)\n",
    "plt.show()"
   ]
  },
  {
   "cell_type": "code",
   "execution_count": null,
   "metadata": {},
   "outputs": [],
   "source": []
  }
 ],
 "metadata": {
  "kernelspec": {
   "display_name": "Python 3",
   "language": "python",
   "name": "python3"
  },
  "language_info": {
   "codemirror_mode": {
    "name": "ipython",
    "version": 3
   },
   "file_extension": ".py",
   "mimetype": "text/x-python",
   "name": "python",
   "nbconvert_exporter": "python",
   "pygments_lexer": "ipython3",
   "version": "3.6.6"
  }
 },
 "nbformat": 4,
 "nbformat_minor": 2
}
