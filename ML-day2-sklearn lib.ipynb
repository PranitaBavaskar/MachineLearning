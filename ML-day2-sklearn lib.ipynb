{
 "cells": [
  {
   "cell_type": "code",
   "execution_count": 3,
   "metadata": {},
   "outputs": [],
   "source": [
    "import matplotlib.pyplot as plt\n",
    "import numpy as np\n",
    "#defining linear model\n",
    "from sklearn.linear_model import LinearRegression\n",
    "#mse & r2 error\n",
    "from sklearn.metrics import mean_squared_error, r2_score"
   ]
  },
  {
   "cell_type": "code",
   "execution_count": 15,
   "metadata": {},
   "outputs": [
    {
     "name": "stdout",
     "output_type": "stream",
     "text": [
      "[[0.67781654]\n",
      " [0.27000797]\n",
      " [0.73519402]\n",
      " [0.96218855]\n",
      " [0.24875314]\n",
      " [0.57615733]\n",
      " [0.59204193]\n",
      " [0.57225191]\n",
      " [0.22308163]\n",
      " [0.95274901]\n",
      " [0.44712538]\n",
      " [0.84640867]\n",
      " [0.69947928]\n",
      " [0.29743695]\n",
      " [0.81379782]\n",
      " [0.39650574]\n",
      " [0.8811032 ]\n",
      " [0.58127287]\n",
      " [0.88173536]\n",
      " [0.69253159]\n",
      " [0.72525428]\n",
      " [0.50132438]\n",
      " [0.95608363]\n",
      " [0.6439902 ]\n",
      " [0.42385505]\n",
      " [0.60639321]\n",
      " [0.0191932 ]\n",
      " [0.30157482]\n",
      " [0.66017354]\n",
      " [0.29007761]\n",
      " [0.61801543]\n",
      " [0.4287687 ]\n",
      " [0.13547406]\n",
      " [0.29828233]\n",
      " [0.56996491]\n",
      " [0.59087276]\n",
      " [0.57432525]\n",
      " [0.65320082]\n",
      " [0.65210327]\n",
      " [0.43141844]\n",
      " [0.8965466 ]\n",
      " [0.36756187]\n",
      " [0.43586493]\n",
      " [0.89192336]\n",
      " [0.80619399]\n",
      " [0.70388858]\n",
      " [0.10022689]\n",
      " [0.91948261]\n",
      " [0.7142413 ]\n",
      " [0.99884701]\n",
      " [0.1494483 ]\n",
      " [0.86812606]\n",
      " [0.16249293]\n",
      " [0.61555956]\n",
      " [0.12381998]\n",
      " [0.84800823]\n",
      " [0.80731896]\n",
      " [0.56910074]\n",
      " [0.4071833 ]\n",
      " [0.069167  ]\n",
      " [0.69742877]\n",
      " [0.45354268]\n",
      " [0.7220556 ]\n",
      " [0.86638233]\n",
      " [0.97552151]\n",
      " [0.85580334]\n",
      " [0.01171408]\n",
      " [0.35997806]\n",
      " [0.72999056]\n",
      " [0.17162968]\n",
      " [0.52103661]\n",
      " [0.05433799]\n",
      " [0.19999652]\n",
      " [0.01852179]\n",
      " [0.7936977 ]\n",
      " [0.22392469]\n",
      " [0.34535168]\n",
      " [0.92808129]\n",
      " [0.7044144 ]\n",
      " [0.03183893]\n",
      " [0.16469416]\n",
      " [0.6214784 ]\n",
      " [0.57722859]\n",
      " [0.23789282]\n",
      " [0.934214  ]\n",
      " [0.61396596]\n",
      " [0.5356328 ]\n",
      " [0.58990998]\n",
      " [0.73012203]\n",
      " [0.311945  ]\n",
      " [0.39822106]\n",
      " [0.20984375]\n",
      " [0.18619301]\n",
      " [0.94437239]\n",
      " [0.7395508 ]\n",
      " [0.49045881]\n",
      " [0.22741463]\n",
      " [0.25435648]\n",
      " [0.05802916]\n",
      " [0.43441663]]\n"
     ]
    }
   ],
   "source": [
    "#generate rendom data set\n",
    "#np.random.seed(0) # It will generate same values\n",
    "x=np.random.rand(100,1)\n",
    "print(x)"
   ]
  },
  {
   "cell_type": "code",
   "execution_count": 16,
   "metadata": {},
   "outputs": [],
   "source": [
    "y=2+3*x+np.random.rand(100,1)"
   ]
  },
  {
   "cell_type": "code",
   "execution_count": 17,
   "metadata": {},
   "outputs": [],
   "source": [
    "# model initialization\n",
    "lr=LinearRegression()\n",
    "# Fit the data (train the model)\n",
    "lr.fit(x,y)\n",
    "#predict\n",
    "y_predicted=lr.predict(x)"
   ]
  },
  {
   "cell_type": "code",
   "execution_count": 18,
   "metadata": {},
   "outputs": [],
   "source": [
    "# Model evaluation\n",
    "mse=mean_squared_error(y,y_predicted)\n",
    "r2=r2_score(y,y_predicted)"
   ]
  },
  {
   "cell_type": "code",
   "execution_count": 19,
   "metadata": {},
   "outputs": [
    {
     "name": "stdout",
     "output_type": "stream",
     "text": [
      "Slope [[2.86475805]]\n",
      "Intercept: [2.58105079]\n",
      "Root mean squared error: 0.08961082585976568\n",
      "R2 score 0.8751922526808815\n"
     ]
    }
   ],
   "source": [
    "# Printing values\n",
    "print('Slope',lr.coef_)\n",
    "print('Intercept:',lr.intercept_)\n",
    "print('Root mean squared error:',mse)\n",
    "print('R2 score',r2)"
   ]
  },
  {
   "cell_type": "code",
   "execution_count": 20,
   "metadata": {},
   "outputs": [
    {
     "data": {
      "image/png": "[encoded data removed]",
      "text/plain": [
       "<Figure size 720x360 with 1 Axes>"
      ]
     },
     "metadata": {
      "needs_background": "light"
     },
     "output_type": "display_data"
    }
   ],
   "source": [
    "# Plotting values\n",
    "plt.figure(figsize=(10,5))\n",
    "plt.scatter(x,y,s=10)\n",
    "plt.xlabel('x')\n",
    "plt.ylabel('y')\n",
    "#predicted values\n",
    "plt.plot(x,y_predicted,color='g')\n",
    "plt.show()"
   ]
  },
  {
   "cell_type": "code",
   "execution_count": null,
   "metadata": {},
   "outputs": [],
   "source": []
  },
  {
   "cell_type": "code",
   "execution_count": null,
   "metadata": {},
   "outputs": [],
   "source": []
  }
 ],
 "metadata": {
  "kernelspec": {
   "display_name": "Python 3",
   "language": "python",
   "name": "python3"
  },
  "language_info": {
   "codemirror_mode": {
    "name": "ipython",
    "version": 3
   },
   "file_extension": ".py",
   "mimetype": "text/x-python",
   "name": "python",
   "nbconvert_exporter": "python",
   "pygments_lexer": "ipython3",
   "version": "3.6.6"
  }
 },
 "nbformat": 4,
 "nbformat_minor": 2
}
