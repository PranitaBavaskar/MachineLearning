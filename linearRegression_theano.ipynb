{
 "cells": [
  {
   "cell_type": "markdown",
   "metadata": {},
   "source": [
    "\n",
    "# Linear Regression using theano"
   ]
  },
  {
   "cell_type": "code",
   "execution_count": 2,
   "metadata": {},
   "outputs": [],
   "source": [
    "import numpy as np\n",
    "import matplotlib.pyplot as plt"
   ]
  },
  {
   "cell_type": "code",
   "execution_count": 3,
   "metadata": {},
   "outputs": [],
   "source": [
    "import theano as th"
   ]
  },
  {
   "cell_type": "code",
   "execution_count": 4,
   "metadata": {},
   "outputs": [],
   "source": [
    "xdata=np.asarray([1.2,2.0,3.6,5.8,9.11,8.51,12.55,18.52,45.12,65.12])\n",
    "ydata=np.asarray([1,0,0,1,0,1,0,1,1,0])"
   ]
  },
  {
   "cell_type": "code",
   "execution_count": 5,
   "metadata": {},
   "outputs": [
    {
     "data": {
      "text/plain": [
       "10"
      ]
     },
     "execution_count": 5,
     "metadata": {},
     "output_type": "execute_result"
    }
   ],
   "source": [
    "len(ydata)"
   ]
  },
  {
   "cell_type": "code",
   "execution_count": 6,
   "metadata": {},
   "outputs": [
    {
     "data": {
      "text/plain": [
       "10"
      ]
     },
     "execution_count": 6,
     "metadata": {},
     "output_type": "execute_result"
    }
   ],
   "source": [
    "len(xdata)"
   ]
  },
  {
   "cell_type": "code",
   "execution_count": 7,
   "metadata": {},
   "outputs": [],
   "source": [
    "x=th.tensor.vector(name='x')\n",
    "y=th.tensor.vector(name='y')"
   ]
  },
  {
   "cell_type": "code",
   "execution_count": 8,
   "metadata": {},
   "outputs": [],
   "source": [
    "# get the value of m and c constants\n",
    "m=th.shared(np.random.randn(),name='m')\n",
    "c=th.shared(np.random.randn(),name='c')"
   ]
  },
  {
   "cell_type": "code",
   "execution_count": 9,
   "metadata": {},
   "outputs": [],
   "source": [
    "#y=mX+c here y is yh\n",
    "yh=np.dot(x,m)+c"
   ]
  },
  {
   "cell_type": "code",
   "execution_count": 10,
   "metadata": {},
   "outputs": [],
   "source": [
    "n=len(xdata)#here we put the length of xdata in n variable\n",
    "cost=th.tensor.sum((y-yh)**2)/(2*n)"
   ]
  },
  {
   "cell_type": "code",
   "execution_count": 11,
   "metadata": {},
   "outputs": [],
   "source": [
    "djdm=th.tensor.grad(cost,m)\n",
    "djdc=th.tensor.grad(cost,c)\n",
    "#here we find new values of m and c constants \n",
    "mnew = m-0.0005*djdm\n",
    "cnew = c-0.0005*djdc"
   ]
  },
  {
   "cell_type": "code",
   "execution_count": 12,
   "metadata": {},
   "outputs": [],
   "source": [
    "train=th.function([x,y],cost,updates=[(m,mnew),(c,cnew)])\n",
    "test=th.function([x],yh)"
   ]
  },
  {
   "cell_type": "code",
   "execution_count": 13,
   "metadata": {},
   "outputs": [],
   "source": [
    "costval=[]\n",
    "for i in range(40000):\n",
    "    costm=train(xdata,ydata)\n",
    "    costval.append(costm)"
   ]
  },
  {
   "cell_type": "code",
   "execution_count": 14,
   "metadata": {},
   "outputs": [
    {
     "name": "stdout",
     "output_type": "stream",
     "text": [
      "0.12445872188685901\n"
     ]
    }
   ],
   "source": [
    "print(costm)"
   ]
  },
  {
   "cell_type": "code",
   "execution_count": 15,
   "metadata": {},
   "outputs": [
    {
     "name": "stdout",
     "output_type": "stream",
     "text": [
      "[0.52808627 0.52205563 0.51602498 0.50999434 0.5039637  0.49793306\n",
      " 0.49190242 0.48587178 0.47984114 0.4738105  0.46777986 0.46174922\n",
      " 0.45571858 0.44968794 0.44365729 0.43762665 0.43159601 0.42556537\n",
      " 0.41953473 0.41350409]\n"
     ]
    }
   ],
   "source": [
    "a=np.linspace(0,70,20)\n",
    "b=test(a)\n",
    "print(b)"
   ]
  },
  {
   "cell_type": "code",
   "execution_count": 16,
   "metadata": {},
   "outputs": [
    {
     "name": "stdout",
     "output_type": "stream",
     "text": [
      "final value of m is-0.001636888213520893\n",
      "final value of c is0.5280862657951734\n",
      "----------------------------------\n",
      "Test data value is=\n",
      "[0.42149211]\n"
     ]
    }
   ],
   "source": [
    "print('final value of m is'+str(m.get_value()))\n",
    "print('final value of c is'+str(c.get_value()))\n",
    "print('----------------------------------')\n",
    "print('Test data value is=')\n",
    "print(test([65.12]))"
   ]
  },
  {
   "cell_type": "code",
   "execution_count": 17,
   "metadata": {},
   "outputs": [
    {
     "data": {
      "image/png": "[encoded data removed]",
      "text/plain": [
       "<Figure size 432x288 with 1 Axes>"
      ]
     },
     "metadata": {
      "needs_background": "light"
     },
     "output_type": "display_data"
    }
   ],
   "source": [
    "plt.scatter(xdata,ydata,color='red',label='Data')\n",
    "plt.plot(a,b,color='black',label='Regression')\n",
    "plt.title(\"----------------Linear Regression using theano-----------------\")\n",
    "plt.xlabel(\"----------------------------------------X data------------------------------------\")\n",
    "plt.ylabel(\"------------------------Y data------------------------\")\n",
    "plt.legend(loc=1)\n",
    "plt.show()"
   ]
  }
 ],
 "metadata": {
  "kernelspec": {
   "display_name": "Python 3",
   "language": "python",
   "name": "python3"
  },
  "language_info": {
   "codemirror_mode": {
    "name": "ipython",
    "version": 3
   },
   "file_extension": ".py",
   "mimetype": "text/x-python",
   "name": "python",
   "nbconvert_exporter": "python",
   "pygments_lexer": "ipython3",
   "version": "3.6.6"
  }
 },
 "nbformat": 4,
 "nbformat_minor": 2
}
