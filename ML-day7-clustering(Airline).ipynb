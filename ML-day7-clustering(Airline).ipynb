{
 "cells": [
  {
   "cell_type": "markdown",
   "metadata": {},
   "source": [
    "# KMeans"
   ]
  },
  {
   "cell_type": "code",
   "execution_count": 13,
   "metadata": {},
   "outputs": [],
   "source": [
    "import numpy as np\n",
    "import pandas as pd\n",
    "from sklearn.cluster import KMeans\n",
    "import matplotlib.pyplot as plt"
   ]
  },
  {
   "cell_type": "code",
   "execution_count": 14,
   "metadata": {},
   "outputs": [
    {
     "data": {
      "text/html": [
       "<div>\n",
       "<style scoped>\n",
       "    .dataframe tbody tr th:only-of-type {\n",
       "        vertical-align: middle;\n",
       "    }\n",
       "\n",
       "    .dataframe tbody tr th {\n",
       "        vertical-align: top;\n",
       "    }\n",
       "\n",
       "    .dataframe thead th {\n",
       "        text-align: right;\n",
       "    }\n",
       "</style>\n",
       "<table border=\"1\" class=\"dataframe\">\n",
       "  <thead>\n",
       "    <tr style=\"text-align: right;\">\n",
       "      <th></th>\n",
       "      <th>Balance</th>\n",
       "      <th>QualMiles</th>\n",
       "      <th>BonusMiles</th>\n",
       "      <th>BonusTrans</th>\n",
       "      <th>FlightMiles</th>\n",
       "      <th>FlightTrans</th>\n",
       "      <th>DaysSinceEnroll</th>\n",
       "    </tr>\n",
       "  </thead>\n",
       "  <tbody>\n",
       "    <tr>\n",
       "      <th>0</th>\n",
       "      <td>28143</td>\n",
       "      <td>0</td>\n",
       "      <td>174</td>\n",
       "      <td>1</td>\n",
       "      <td>0</td>\n",
       "      <td>0</td>\n",
       "      <td>7000</td>\n",
       "    </tr>\n",
       "    <tr>\n",
       "      <th>1</th>\n",
       "      <td>19244</td>\n",
       "      <td>0</td>\n",
       "      <td>215</td>\n",
       "      <td>2</td>\n",
       "      <td>0</td>\n",
       "      <td>0</td>\n",
       "      <td>6968</td>\n",
       "    </tr>\n",
       "    <tr>\n",
       "      <th>2</th>\n",
       "      <td>41354</td>\n",
       "      <td>0</td>\n",
       "      <td>4123</td>\n",
       "      <td>4</td>\n",
       "      <td>0</td>\n",
       "      <td>0</td>\n",
       "      <td>7034</td>\n",
       "    </tr>\n",
       "    <tr>\n",
       "      <th>3</th>\n",
       "      <td>14776</td>\n",
       "      <td>0</td>\n",
       "      <td>500</td>\n",
       "      <td>1</td>\n",
       "      <td>0</td>\n",
       "      <td>0</td>\n",
       "      <td>6952</td>\n",
       "    </tr>\n",
       "    <tr>\n",
       "      <th>4</th>\n",
       "      <td>97752</td>\n",
       "      <td>0</td>\n",
       "      <td>43300</td>\n",
       "      <td>26</td>\n",
       "      <td>2077</td>\n",
       "      <td>4</td>\n",
       "      <td>6935</td>\n",
       "    </tr>\n",
       "  </tbody>\n",
       "</table>\n",
       "</div>"
      ],
      "text/plain": [
       "   Balance  QualMiles  BonusMiles  BonusTrans  FlightMiles  FlightTrans  \\\n",
       "0    28143          0         174           1            0            0   \n",
       "1    19244          0         215           2            0            0   \n",
       "2    41354          0        4123           4            0            0   \n",
       "3    14776          0         500           1            0            0   \n",
       "4    97752          0       43300          26         2077            4   \n",
       "\n",
       "   DaysSinceEnroll  \n",
       "0             7000  \n",
       "1             6968  \n",
       "2             7034  \n",
       "3             6952  \n",
       "4             6935  "
      ]
     },
     "execution_count": 14,
     "metadata": {},
     "output_type": "execute_result"
    }
   ],
   "source": [
    "dataset=pd.read_csv('/home/pranita/PRANITA/M.Tech(CDAC)/ML/files/AirlinesCluster.csv')\n",
    "dataset.head()\n"
   ]
  },
  {
   "cell_type": "code",
   "execution_count": 15,
   "metadata": {},
   "outputs": [
    {
     "data": {
      "text/plain": [
       "Index(['Balance', 'QualMiles', 'BonusMiles', 'BonusTrans', 'FlightMiles',\n",
       "       'FlightTrans', 'DaysSinceEnroll'],\n",
       "      dtype='object')"
      ]
     },
     "execution_count": 15,
     "metadata": {},
     "output_type": "execute_result"
    }
   ],
   "source": [
    "dataset.columns"
   ]
  },
  {
   "cell_type": "code",
   "execution_count": 16,
   "metadata": {},
   "outputs": [
    {
     "data": {
      "text/html": [
       "<div>\n",
       "<style scoped>\n",
       "    .dataframe tbody tr th:only-of-type {\n",
       "        vertical-align: middle;\n",
       "    }\n",
       "\n",
       "    .dataframe tbody tr th {\n",
       "        vertical-align: top;\n",
       "    }\n",
       "\n",
       "    .dataframe thead th {\n",
       "        text-align: right;\n",
       "    }\n",
       "</style>\n",
       "<table border=\"1\" class=\"dataframe\">\n",
       "  <thead>\n",
       "    <tr style=\"text-align: right;\">\n",
       "      <th></th>\n",
       "      <th>Balance</th>\n",
       "      <th>QualMiles</th>\n",
       "      <th>BonusMiles</th>\n",
       "      <th>BonusTrans</th>\n",
       "      <th>FlightMiles</th>\n",
       "      <th>FlightTrans</th>\n",
       "      <th>DaysSinceEnroll</th>\n",
       "    </tr>\n",
       "  </thead>\n",
       "  <tbody>\n",
       "    <tr>\n",
       "      <th>0</th>\n",
       "      <td>28143</td>\n",
       "      <td>0</td>\n",
       "      <td>174</td>\n",
       "      <td>1</td>\n",
       "      <td>0</td>\n",
       "      <td>0</td>\n",
       "      <td>7000</td>\n",
       "    </tr>\n",
       "    <tr>\n",
       "      <th>1</th>\n",
       "      <td>19244</td>\n",
       "      <td>0</td>\n",
       "      <td>215</td>\n",
       "      <td>2</td>\n",
       "      <td>0</td>\n",
       "      <td>0</td>\n",
       "      <td>6968</td>\n",
       "    </tr>\n",
       "    <tr>\n",
       "      <th>2</th>\n",
       "      <td>41354</td>\n",
       "      <td>0</td>\n",
       "      <td>4123</td>\n",
       "      <td>4</td>\n",
       "      <td>0</td>\n",
       "      <td>0</td>\n",
       "      <td>7034</td>\n",
       "    </tr>\n",
       "    <tr>\n",
       "      <th>3</th>\n",
       "      <td>14776</td>\n",
       "      <td>0</td>\n",
       "      <td>500</td>\n",
       "      <td>1</td>\n",
       "      <td>0</td>\n",
       "      <td>0</td>\n",
       "      <td>6952</td>\n",
       "    </tr>\n",
       "    <tr>\n",
       "      <th>4</th>\n",
       "      <td>97752</td>\n",
       "      <td>0</td>\n",
       "      <td>43300</td>\n",
       "      <td>26</td>\n",
       "      <td>2077</td>\n",
       "      <td>4</td>\n",
       "      <td>6935</td>\n",
       "    </tr>\n",
       "  </tbody>\n",
       "</table>\n",
       "</div>"
      ],
      "text/plain": [
       "   Balance  QualMiles  BonusMiles  BonusTrans  FlightMiles  FlightTrans  \\\n",
       "0    28143          0         174           1            0            0   \n",
       "1    19244          0         215           2            0            0   \n",
       "2    41354          0        4123           4            0            0   \n",
       "3    14776          0         500           1            0            0   \n",
       "4    97752          0       43300          26         2077            4   \n",
       "\n",
       "   DaysSinceEnroll  \n",
       "0             7000  \n",
       "1             6968  \n",
       "2             7034  \n",
       "3             6952  \n",
       "4             6935  "
      ]
     },
     "execution_count": 16,
     "metadata": {},
     "output_type": "execute_result"
    }
   ],
   "source": [
    "dataset1=dataset\n",
    "dataset1.head()"
   ]
  },
  {
   "cell_type": "code",
   "execution_count": 17,
   "metadata": {},
   "outputs": [
    {
     "data": {
      "text/html": [
       "<div>\n",
       "<style scoped>\n",
       "    .dataframe tbody tr th:only-of-type {\n",
       "        vertical-align: middle;\n",
       "    }\n",
       "\n",
       "    .dataframe tbody tr th {\n",
       "        vertical-align: top;\n",
       "    }\n",
       "\n",
       "    .dataframe thead th {\n",
       "        text-align: right;\n",
       "    }\n",
       "</style>\n",
       "<table border=\"1\" class=\"dataframe\">\n",
       "  <thead>\n",
       "    <tr style=\"text-align: right;\">\n",
       "      <th></th>\n",
       "      <th>Balance</th>\n",
       "      <th>QualMiles</th>\n",
       "      <th>BonusMiles</th>\n",
       "      <th>BonusTrans</th>\n",
       "      <th>FlightMiles</th>\n",
       "      <th>FlightTrans</th>\n",
       "      <th>DaysSinceEnroll</th>\n",
       "    </tr>\n",
       "  </thead>\n",
       "  <tbody>\n",
       "    <tr>\n",
       "      <th>count</th>\n",
       "      <td>3.999000e+03</td>\n",
       "      <td>3999.000000</td>\n",
       "      <td>3999.000000</td>\n",
       "      <td>3999.00000</td>\n",
       "      <td>3999.000000</td>\n",
       "      <td>3999.000000</td>\n",
       "      <td>3999.00000</td>\n",
       "    </tr>\n",
       "    <tr>\n",
       "      <th>mean</th>\n",
       "      <td>7.360133e+04</td>\n",
       "      <td>144.114529</td>\n",
       "      <td>17144.846212</td>\n",
       "      <td>11.60190</td>\n",
       "      <td>460.055764</td>\n",
       "      <td>1.373593</td>\n",
       "      <td>4118.55939</td>\n",
       "    </tr>\n",
       "    <tr>\n",
       "      <th>std</th>\n",
       "      <td>1.007757e+05</td>\n",
       "      <td>773.663804</td>\n",
       "      <td>24150.967826</td>\n",
       "      <td>9.60381</td>\n",
       "      <td>1400.209171</td>\n",
       "      <td>3.793172</td>\n",
       "      <td>2065.13454</td>\n",
       "    </tr>\n",
       "    <tr>\n",
       "      <th>min</th>\n",
       "      <td>0.000000e+00</td>\n",
       "      <td>0.000000</td>\n",
       "      <td>0.000000</td>\n",
       "      <td>0.00000</td>\n",
       "      <td>0.000000</td>\n",
       "      <td>0.000000</td>\n",
       "      <td>2.00000</td>\n",
       "    </tr>\n",
       "    <tr>\n",
       "      <th>25%</th>\n",
       "      <td>1.852750e+04</td>\n",
       "      <td>0.000000</td>\n",
       "      <td>1250.000000</td>\n",
       "      <td>3.00000</td>\n",
       "      <td>0.000000</td>\n",
       "      <td>0.000000</td>\n",
       "      <td>2330.00000</td>\n",
       "    </tr>\n",
       "    <tr>\n",
       "      <th>50%</th>\n",
       "      <td>4.309700e+04</td>\n",
       "      <td>0.000000</td>\n",
       "      <td>7171.000000</td>\n",
       "      <td>12.00000</td>\n",
       "      <td>0.000000</td>\n",
       "      <td>0.000000</td>\n",
       "      <td>4096.00000</td>\n",
       "    </tr>\n",
       "    <tr>\n",
       "      <th>75%</th>\n",
       "      <td>9.240400e+04</td>\n",
       "      <td>0.000000</td>\n",
       "      <td>23800.500000</td>\n",
       "      <td>17.00000</td>\n",
       "      <td>311.000000</td>\n",
       "      <td>1.000000</td>\n",
       "      <td>5790.50000</td>\n",
       "    </tr>\n",
       "    <tr>\n",
       "      <th>max</th>\n",
       "      <td>1.704838e+06</td>\n",
       "      <td>11148.000000</td>\n",
       "      <td>263685.000000</td>\n",
       "      <td>86.00000</td>\n",
       "      <td>30817.000000</td>\n",
       "      <td>53.000000</td>\n",
       "      <td>8296.00000</td>\n",
       "    </tr>\n",
       "  </tbody>\n",
       "</table>\n",
       "</div>"
      ],
      "text/plain": [
       "            Balance     QualMiles     BonusMiles  BonusTrans   FlightMiles  \\\n",
       "count  3.999000e+03   3999.000000    3999.000000  3999.00000   3999.000000   \n",
       "mean   7.360133e+04    144.114529   17144.846212    11.60190    460.055764   \n",
       "std    1.007757e+05    773.663804   24150.967826     9.60381   1400.209171   \n",
       "min    0.000000e+00      0.000000       0.000000     0.00000      0.000000   \n",
       "25%    1.852750e+04      0.000000    1250.000000     3.00000      0.000000   \n",
       "50%    4.309700e+04      0.000000    7171.000000    12.00000      0.000000   \n",
       "75%    9.240400e+04      0.000000   23800.500000    17.00000    311.000000   \n",
       "max    1.704838e+06  11148.000000  263685.000000    86.00000  30817.000000   \n",
       "\n",
       "       FlightTrans  DaysSinceEnroll  \n",
       "count  3999.000000       3999.00000  \n",
       "mean      1.373593       4118.55939  \n",
       "std       3.793172       2065.13454  \n",
       "min       0.000000          2.00000  \n",
       "25%       0.000000       2330.00000  \n",
       "50%       0.000000       4096.00000  \n",
       "75%       1.000000       5790.50000  \n",
       "max      53.000000       8296.00000  "
      ]
     },
     "execution_count": 17,
     "metadata": {},
     "output_type": "execute_result"
    }
   ],
   "source": [
    "dataset1.describe()"
   ]
  },
  {
   "cell_type": "code",
   "execution_count": 18,
   "metadata": {},
   "outputs": [
    {
     "name": "stdout",
     "output_type": "stream",
     "text": [
      "<class 'pandas.core.frame.DataFrame'>\n",
      "RangeIndex: 3999 entries, 0 to 3998\n",
      "Data columns (total 7 columns):\n",
      "Balance            3999 non-null int64\n",
      "QualMiles          3999 non-null int64\n",
      "BonusMiles         3999 non-null int64\n",
      "BonusTrans         3999 non-null int64\n",
      "FlightMiles        3999 non-null int64\n",
      "FlightTrans        3999 non-null int64\n",
      "DaysSinceEnroll    3999 non-null int64\n",
      "dtypes: int64(7)\n",
      "memory usage: 218.8 KB\n"
     ]
    }
   ],
   "source": [
    "dataset1.info()"
   ]
  },
  {
   "cell_type": "code",
   "execution_count": 20,
   "metadata": {},
   "outputs": [
    {
     "name": "stderr",
     "output_type": "stream",
     "text": [
      "/home/pranita/anaconda3/lib/python3.6/site-packages/ipykernel_launcher.py:4: DataConversionWarning: Data with input dtype int64 were all converted to float64 by the scale function.\n",
      "  after removing the cwd from sys.path.\n"
     ]
    }
   ],
   "source": [
    "#standardize the data to normal distribution\n",
    "# SCALE DATASET TO NORMAL DI\n",
    "from sklearn import preprocessing\n",
    "dataset1_standardized = preprocessing.scale(dataset1)\n",
    "dataset1_standardized = pd.DataFrame(dataset1_standardized)"
   ]
  },
  {
   "cell_type": "code",
   "execution_count": 50,
   "metadata": {},
   "outputs": [
    {
     "name": "stdout",
     "output_type": "stream",
     "text": [
      "[27993.0, 21986.77616650405, 18131.370977425184, 15490.756814787495, 13515.207717858802, 12157.9018951619]\n"
     ]
    },
    {
     "data": {
      "image/png": "[encoded data removed]",
      "text/plain": [
       "<Figure size 720x504 with 1 Axes>"
      ]
     },
     "metadata": {
      "needs_background": "light"
     },
     "output_type": "display_data"
    }
   ],
   "source": [
    "#FIND the appropriate value of K - Elbow method\n",
    "plt.figure(figsize=(10,7))\n",
    "wcss=[]\n",
    "for i in range(1,7):\n",
    "    kmeans=KMeans(n_clusters=i,init='k-means++',random_state=42)\n",
    "    kmeans.fit(dataset1_standardized)\n",
    "    wcss.append(kmeans.inertia_)\n",
    "print(wcss)\n",
    "plt.plot(range(1,7),wcss)\n",
    "plt.title('K - Elbow method for Kmeans')\n",
    "plt.xlabel('number of cluster values')\n",
    "plt.ylabel('KMeans inertia')\n",
    "plt.show()"
   ]
  },
  {
   "cell_type": "code",
   "execution_count": 51,
   "metadata": {},
   "outputs": [
    {
     "name": "stdout",
     "output_type": "stream",
     "text": [
      "[2 2 2 ... 4 4 4]\n"
     ]
    },
    {
     "data": {
      "text/html": [
       "<div>\n",
       "<style scoped>\n",
       "    .dataframe tbody tr th:only-of-type {\n",
       "        vertical-align: middle;\n",
       "    }\n",
       "\n",
       "    .dataframe tbody tr th {\n",
       "        vertical-align: top;\n",
       "    }\n",
       "\n",
       "    .dataframe thead th {\n",
       "        text-align: right;\n",
       "    }\n",
       "</style>\n",
       "<table border=\"1\" class=\"dataframe\">\n",
       "  <thead>\n",
       "    <tr style=\"text-align: right;\">\n",
       "      <th></th>\n",
       "      <th>Balance</th>\n",
       "      <th>QualMiles</th>\n",
       "      <th>BonusMiles</th>\n",
       "      <th>BonusTrans</th>\n",
       "      <th>FlightMiles</th>\n",
       "      <th>FlightTrans</th>\n",
       "      <th>DaysSinceEnroll</th>\n",
       "    </tr>\n",
       "    <tr>\n",
       "      <th>cluster</th>\n",
       "      <th></th>\n",
       "      <th></th>\n",
       "      <th></th>\n",
       "      <th></th>\n",
       "      <th></th>\n",
       "      <th></th>\n",
       "      <th></th>\n",
       "    </tr>\n",
       "  </thead>\n",
       "  <tbody>\n",
       "    <tr>\n",
       "      <th>1</th>\n",
       "      <td>152724.4</td>\n",
       "      <td>77.9</td>\n",
       "      <td>50999.4</td>\n",
       "      <td>21.3</td>\n",
       "      <td>479.4</td>\n",
       "      <td>1.5</td>\n",
       "      <td>4912.2</td>\n",
       "    </tr>\n",
       "    <tr>\n",
       "      <th>2</th>\n",
       "      <td>116472.4</td>\n",
       "      <td>5636.3</td>\n",
       "      <td>19804.3</td>\n",
       "      <td>12.5</td>\n",
       "      <td>963.0</td>\n",
       "      <td>2.9</td>\n",
       "      <td>3950.6</td>\n",
       "    </tr>\n",
       "    <tr>\n",
       "      <th>3</th>\n",
       "      <td>57410.4</td>\n",
       "      <td>53.4</td>\n",
       "      <td>8738.5</td>\n",
       "      <td>9.1</td>\n",
       "      <td>213.4</td>\n",
       "      <td>0.6</td>\n",
       "      <td>5828.1</td>\n",
       "    </tr>\n",
       "    <tr>\n",
       "      <th>4</th>\n",
       "      <td>191736.3</td>\n",
       "      <td>471.6</td>\n",
       "      <td>33093.3</td>\n",
       "      <td>28.4</td>\n",
       "      <td>5763.1</td>\n",
       "      <td>16.8</td>\n",
       "      <td>4666.4</td>\n",
       "    </tr>\n",
       "    <tr>\n",
       "      <th>5</th>\n",
       "      <td>38180.1</td>\n",
       "      <td>39.4</td>\n",
       "      <td>6734.2</td>\n",
       "      <td>7.6</td>\n",
       "      <td>180.0</td>\n",
       "      <td>0.6</td>\n",
       "      <td>2283.7</td>\n",
       "    </tr>\n",
       "  </tbody>\n",
       "</table>\n",
       "</div>"
      ],
      "text/plain": [
       "          Balance  QualMiles  BonusMiles  BonusTrans  FlightMiles  \\\n",
       "cluster                                                             \n",
       "1        152724.4       77.9     50999.4        21.3        479.4   \n",
       "2        116472.4     5636.3     19804.3        12.5        963.0   \n",
       "3         57410.4       53.4      8738.5         9.1        213.4   \n",
       "4        191736.3      471.6     33093.3        28.4       5763.1   \n",
       "5         38180.1       39.4      6734.2         7.6        180.0   \n",
       "\n",
       "         FlightTrans  DaysSinceEnroll  \n",
       "cluster                                \n",
       "1                1.5           4912.2  \n",
       "2                2.9           3950.6  \n",
       "3                0.6           5828.1  \n",
       "4               16.8           4666.4  \n",
       "5                0.6           2283.7  "
      ]
     },
     "execution_count": 51,
     "metadata": {},
     "output_type": "execute_result"
    }
   ],
   "source": [
    "#fitting kmeans to dataset\n",
    "# kameans algorithm\n",
    "kmeans=KMeans(n_clusters=5,init='k-means++',random_state=42)\n",
    "kmeans.fit(dataset1_standardized)\n",
    "y_kmeans=kmeans.fit_predict(dataset1_standardized)\n",
    "print(y_kmeans)\n",
    "#begining of the cluster numbering with 1 instead of 0\n",
    "y_kmeans1=y_kmeans\n",
    "y_kmeans1=y_kmeans+1\n",
    "# new dataframe called cluster\n",
    "cluster=pd.DataFrame(y_kmeans1)\n",
    "# Adding cluster to the dataset1\n",
    "dataset1['cluster']=cluster\n",
    "# mean of cluster\n",
    "kmeans_mean_cluster = pd.DataFrame(round(dataset1.groupby('cluster').mean(),1))\n",
    "kmeans_mean_cluster"
   ]
  },
  {
   "cell_type": "code",
   "execution_count": 52,
   "metadata": {},
   "outputs": [
    {
     "data": {
      "text/plain": [
       "array([3], dtype=int32)"
      ]
     },
     "execution_count": 52,
     "metadata": {},
     "output_type": "execute_result"
    }
   ],
   "source": [
    "kmeans.predict([[152724.4,77.9,50999.4,21.3,479.4,1.5,4912.2]])"
   ]
  },
  {
   "cell_type": "code",
   "execution_count": 53,
   "metadata": {},
   "outputs": [
    {
     "name": "stdout",
     "output_type": "stream",
     "text": [
      "number of cluster= 5\n",
      "kmeans.cluster_centers_ [[ 0.78343265 -0.08574292  1.40210526  1.00989063  0.01338988  0.02146742\n",
      "   0.38290995]\n",
      " [ 0.42546416  7.09987688  0.11013129  0.09826017  0.35926311  0.40006234\n",
      "  -0.08132353]\n",
      " [-0.16068347 -0.11732511 -0.34811688 -0.26055899 -0.1761986  -0.19190054\n",
      "   0.82791104]\n",
      " [ 1.17240389  0.42330125  0.66044906  1.74481144  3.78781998  4.05928363\n",
      "   0.2653201 ]\n",
      " [-0.35136715 -0.13527999 -0.43229738 -0.41376155 -0.19993373 -0.21556336\n",
      "  -0.88871343]]\n"
     ]
    }
   ],
   "source": [
    "print('number of cluster=',kmeans.n_clusters)#show number of cluster\n",
    "print('kmeans.cluster_centers_',kmeans.cluster_centers_)#there are 7 dimension so value plot at space"
   ]
  },
  {
   "cell_type": "markdown",
   "metadata": {},
   "source": [
    "# Hierarchical Clustering"
   ]
  },
  {
   "cell_type": "code",
   "execution_count": 54,
   "metadata": {},
   "outputs": [],
   "source": [
    "dataset2_standardized=dataset1_standardized"
   ]
  },
  {
   "cell_type": "code",
   "execution_count": 69,
   "metadata": {},
   "outputs": [
    {
     "data": {
      "image/png": "[encoded data removed]",
      "text/plain": [
       "<Figure size 432x288 with 1 Axes>"
      ]
     },
     "metadata": {
      "needs_background": "light"
     },
     "output_type": "display_data"
    }
   ],
   "source": [
    "# Dendogram - Hierarchical clustering\n",
    "from scipy.cluster.hierarchy import dendrogram, linkage\n",
    "import numpy as np\n",
    "%matplotlib inline\n",
    "np.set_printoptions(precision=5,suppress=True)\n",
    "#suppress scientific float notation\n",
    "#creating the linkage matrix\n",
    "#method = 'ward'->uses the ward variance minimization algorithm\n",
    "#Z : H_cluster - linkage N-D array of histogram\n",
    "\n",
    "H_cluster=linkage(dataset2_standardized,method='ward')\n",
    "#plt.figure(figsize=(12,8))\n",
    "plt.title('Hierarchical clustering Dendogram(truncated)')\n",
    "plt.xlabel('sample index or(cluster size)')\n",
    "plt.ylabel('distance')\n",
    "# graphical representation for hierarchical clustering\n",
    "dendrogram(\n",
    "    H_cluster,\n",
    "    truncate_mode='lastp',#show only the last p method cluster\n",
    "    # here we use mode=level that divide into too much subcluster\n",
    "    #p=5, #show only the last p  method cluster \n",
    "    leaf_rotation=90.,\n",
    "    leaf_font_size=12.,\n",
    "    show_contracted=True\n",
    ")\n",
    "plt.show()"
   ]
  },
  {
   "cell_type": "code",
   "execution_count": 67,
   "metadata": {},
   "outputs": [
    {
     "data": {
      "image/png": "[encoded data removed]",
      "text/plain": [
       "<Figure size 432x288 with 1 Axes>"
      ]
     },
     "metadata": {
      "needs_background": "light"
     },
     "output_type": "display_data"
    }
   ],
   "source": [
    "# graphical representation for hierarchical clustering\n",
    "dendrogram(\n",
    "    H_cluster,\n",
    "    truncate_mode='lastp',#show only the last p method cluster  \n",
    "    p=5, #show only the last p  method cluster  \n",
    "    leaf_rotation=90.,\n",
    "    leaf_font_size=12.,\n",
    "    show_contracted=True\n",
    ")\n",
    "plt.show()"
   ]
  },
  {
   "cell_type": "code",
   "execution_count": 65,
   "metadata": {},
   "outputs": [
    {
     "data": {
      "image/png": "[encoded data removed]",
      "text/plain": [
       "<Figure size 864x576 with 1 Axes>"
      ]
     },
     "metadata": {
      "needs_background": "light"
     },
     "output_type": "display_data"
    }
   ],
   "source": [
    "# Assigning the cluster and plotting the observations as per hierarchi\n",
    "from scipy.cluster.hierarchy import fcluster\n",
    "k=5\n",
    "plt.figure(figsize=(12,8))\n",
    "cluster_2=fcluster(H_cluster,k,criterion='maxclust')\n",
    "cluster_2[0:30:,]\n",
    "plt.scatter(dataset2_standardized.iloc[:,0],\n",
    "           dataset2_standardized.iloc[:,1],\n",
    "           c=cluster_2,cmap='prism')\n",
    "# plot points eith cluster dependent colors\n",
    "plt.title('Airline Data - Hierarchical clustering')\n",
    "plt.show()"
   ]
  }
 ],
 "metadata": {
  "kernelspec": {
   "display_name": "Python 3",
   "language": "python",
   "name": "python3"
  },
  "language_info": {
   "codemirror_mode": {
    "name": "ipython",
    "version": 3
   },
   "file_extension": ".py",
   "mimetype": "text/x-python",
   "name": "python",
   "nbconvert_exporter": "python",
   "pygments_lexer": "ipython3",
   "version": "3.6.6"
  }
 },
 "nbformat": 4,
 "nbformat_minor": 2
}
